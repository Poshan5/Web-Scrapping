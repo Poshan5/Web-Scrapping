{
 "cells": [
  {
   "cell_type": "code",
   "execution_count": 7,
   "id": "6a011d66",
   "metadata": {},
   "outputs": [
    {
     "name": "stdout",
     "output_type": "stream",
     "text": [
      "Requirement already satisfied: requests in c:\\users\\poson\\anaconda2\\lib\\site-packages (2.28.1)\n",
      "Requirement already satisfied: idna<4,>=2.5 in c:\\users\\poson\\anaconda2\\lib\\site-packages (from requests) (3.4)\n",
      "Requirement already satisfied: charset-normalizer<3,>=2 in c:\\users\\poson\\anaconda2\\lib\\site-packages (from requests) (2.0.4)\n",
      "Requirement already satisfied: certifi>=2017.4.17 in c:\\users\\poson\\anaconda2\\lib\\site-packages (from requests) (2022.12.7)\n",
      "Requirement already satisfied: urllib3<1.27,>=1.21.1 in c:\\users\\poson\\anaconda2\\lib\\site-packages (from requests) (1.26.14)\n",
      "Requirement already satisfied: bs4 in c:\\users\\poson\\anaconda2\\lib\\site-packages (0.0.1)\n",
      "Requirement already satisfied: beautifulsoup4 in c:\\users\\poson\\anaconda2\\lib\\site-packages (from bs4) (4.11.1)\n",
      "Requirement already satisfied: soupsieve>1.2 in c:\\users\\poson\\anaconda2\\lib\\site-packages (from beautifulsoup4->bs4) (2.3.2.post1)\n"
     ]
    }
   ],
   "source": [
    "!pip install requests\n",
    "!pip install bs4"
   ]
  },
  {
   "cell_type": "code",
   "execution_count": 8,
   "id": "04f55e9d",
   "metadata": {},
   "outputs": [],
   "source": [
    "import requests\n",
    "from bs4 import BeautifulSoup as bs\n",
    "import pandas as pd"
   ]
  },
  {
   "cell_type": "code",
   "execution_count": 9,
   "id": "c2779c0d",
   "metadata": {},
   "outputs": [
    {
     "name": "stdout",
     "output_type": "stream",
     "text": [
      "enter your product name:iphone14\n"
     ]
    }
   ],
   "source": [
    "product_name=input(\"enter your product name:\")"
   ]
  },
  {
   "cell_type": "code",
   "execution_count": 15,
   "id": "2dfd1502",
   "metadata": {},
   "outputs": [],
   "source": [
    "dictionary={}\n",
    "product_names=[]\n",
    "prices=[]\n",
    "ratings=[]\n",
    "reviews=[]\n",
    "num_of_ratings=[]\n",
    "for i in range(1,8):\n",
    "    url=\"https://www.flipkart.com/search?q={}&page={}\".format(product_name,i)\n",
    "    scrap=bs(requests.get(url).text)\n",
    "    for name in scrap.find_all(\"div\",class_=\"_4rR01T\"):\n",
    "        product_names.append(name.text)\n",
    "    for price in scrap.find_all(\"div\",class_=\"_30jeq3 _1_WHN1\"):\n",
    "        prices.append(price.text)\n",
    "    for rating in scrap.find_all(\"div\",class_=\"_3LWZlK\"):\n",
    "        ratings.append(rating.text)\n",
    "    for review in scrap.find_all(\"span\",class_=\"_2_R_DZ\"):\n",
    "        reviews.append(review.text.split(\"\\xa0&\\xa0\")[-1])\n",
    "        num_of_ratings.append(review.text.split(\"\\xa0&\\xa0\")[0])\n",
    "        \n",
    "else:\n",
    "    dictionary={\"product_names\":product_names,\"prices\":prices,\"reviews\":reviews,\"no. of ratings\":num_of_ratings}"
   ]
  },
  {
   "cell_type": "code",
   "execution_count": 11,
   "id": "f3814d64",
   "metadata": {},
   "outputs": [
    {
     "name": "stdout",
     "output_type": "stream",
     "text": [
      "168 168 261 168\n"
     ]
    }
   ],
   "source": [
    "print(len(product_names),len(prices),len(ratings),len(reviews))"
   ]
  },
  {
   "cell_type": "code",
   "execution_count": 13,
   "id": "b73a29a2",
   "metadata": {},
   "outputs": [
    {
     "data": {
      "text/plain": [
       "['30,247 Ratings',\n",
       " '30,247 Ratings',\n",
       " '30,247 Ratings',\n",
       " '30,247 Ratings',\n",
       " '30,247 Ratings',\n",
       " '30,247 Ratings',\n",
       " '30,247 Ratings',\n",
       " '30,247 Ratings',\n",
       " '30,247 Ratings',\n",
       " '30,247 Ratings',\n",
       " '30,247 Ratings',\n",
       " '30,247 Ratings',\n",
       " '30,247 Ratings',\n",
       " '30,247 Ratings',\n",
       " '30,247 Ratings',\n",
       " '30,247 Ratings',\n",
       " '30,247 Ratings',\n",
       " '30,247 Ratings',\n",
       " '9,135 Ratings',\n",
       " '9,135 Ratings',\n",
       " '9,135 Ratings',\n",
       " '9,135 Ratings',\n",
       " '1,080 Ratings',\n",
       " '1,080 Ratings',\n",
       " '1,197 Ratings',\n",
       " '1,197 Ratings',\n",
       " '1,080 Ratings',\n",
       " '9,135 Ratings',\n",
       " '9,135 Ratings',\n",
       " '1,080 Ratings',\n",
       " '9,135 Ratings',\n",
       " '1,197 Ratings',\n",
       " '1,197 Ratings',\n",
       " '1,197 Ratings',\n",
       " '1,197 Ratings',\n",
       " '1,080 Ratings',\n",
       " '1,080 Ratings',\n",
       " '1,197 Ratings',\n",
       " '9,135 Ratings',\n",
       " '9,135 Ratings',\n",
       " '1,197 Ratings',\n",
       " '9,135 Ratings',\n",
       " '1,197 Ratings',\n",
       " '9,135 Ratings',\n",
       " '9,135 Ratings',\n",
       " '1,080 Ratings',\n",
       " '1,080 Ratings',\n",
       " '1,197 Ratings',\n",
       " '9,135 Ratings',\n",
       " '9,135 Ratings',\n",
       " '1,197 Ratings',\n",
       " '1,197 Ratings',\n",
       " '1,197 Ratings',\n",
       " '1,080 Ratings',\n",
       " '1,080 Ratings',\n",
       " '1,080 Ratings',\n",
       " '9,135 Ratings',\n",
       " '1,080 Ratings',\n",
       " '1,197 Ratings',\n",
       " '1,080 Ratings',\n",
       " '1,080 Ratings',\n",
       " '1,91,819 Ratings',\n",
       " '1,91,819 Ratings',\n",
       " '1,91,819 Ratings',\n",
       " '1,88,481 Ratings',\n",
       " '1,91,819 Ratings',\n",
       " '1,88,481 Ratings',\n",
       " '1,88,481 Ratings',\n",
       " '1,88,481 Ratings',\n",
       " '1,88,481 Ratings',\n",
       " '1,91,819 Ratings',\n",
       " '1,88,481 Ratings',\n",
       " '1,88,481 Ratings',\n",
       " '1,88,481 Ratings',\n",
       " '1,54,127 Ratings',\n",
       " '17 Ratings',\n",
       " '1,91,819 Ratings',\n",
       " '1,88,481 Ratings',\n",
       " '1,91,819 Ratings',\n",
       " '1,88,481 Ratings',\n",
       " '1,91,819 Ratings',\n",
       " '1,88,481 Ratings',\n",
       " '1,91,819 Ratings',\n",
       " '1,88,481 Ratings',\n",
       " '1,27,607 Ratings',\n",
       " '1,54,127 Ratings',\n",
       " '1,54,127 Ratings',\n",
       " '1,27,607 Ratings',\n",
       " '1,00,759 Ratings',\n",
       " '1,00,759 Ratings',\n",
       " '1,307 Ratings',\n",
       " '1,45,551 Ratings',\n",
       " '1,27,607 Ratings',\n",
       " '1,27,607 Ratings',\n",
       " '1,27,607 Ratings',\n",
       " '1,307 Ratings',\n",
       " '9,135 Ratings',\n",
       " '9,135 Ratings',\n",
       " '1,080 Ratings',\n",
       " '17 Ratings',\n",
       " '9,135 Ratings',\n",
       " '1,197 Ratings',\n",
       " '1,197 Ratings',\n",
       " '1,080 Ratings',\n",
       " '1,91,819 Ratings',\n",
       " '1,91,819 Ratings',\n",
       " '1,27,607 Ratings',\n",
       " '1,88,481 Ratings',\n",
       " '1,27,607 Ratings',\n",
       " '1,88,481 Ratings',\n",
       " '1,27,607 Ratings',\n",
       " '1,00,759 Ratings',\n",
       " '1,307 Ratings',\n",
       " '1,45,551 Ratings',\n",
       " '1,54,127 Ratings',\n",
       " '1,27,607 Ratings',\n",
       " '1,00,759 Ratings',\n",
       " '1,54,127 Ratings',\n",
       " '1,27,607 Ratings',\n",
       " '1,307 Ratings',\n",
       " '1,54,127 Ratings',\n",
       " '1,27,607 Ratings',\n",
       " '1,27,607 Ratings',\n",
       " '17 Ratings',\n",
       " '1,27,607 Ratings',\n",
       " '1,54,127 Ratings',\n",
       " '1,45,551 Ratings',\n",
       " '1,45,551 Ratings',\n",
       " '1,307 Ratings',\n",
       " '1,54,127 Ratings',\n",
       " '1,45,551 Ratings',\n",
       " '1,00,759 Ratings',\n",
       " '1,307 Ratings',\n",
       " '1,91,819 Ratings',\n",
       " '1,00,759 Ratings',\n",
       " '1,27,607 Ratings',\n",
       " '1,307 Ratings',\n",
       " '1,27,607 Ratings',\n",
       " '1,27,607 Ratings',\n",
       " '1,00,759 Ratings',\n",
       " '1,00,759 Ratings',\n",
       " '1,307 Ratings',\n",
       " '1,88,481 Ratings',\n",
       " '1,45,551 Ratings',\n",
       " '1,307 Ratings',\n",
       " '1,00,759 Ratings',\n",
       " '1,88,481 Ratings',\n",
       " '49 Ratings',\n",
       " '1,00,759 Ratings',\n",
       " '1,266 Ratings',\n",
       " '1,266 Ratings',\n",
       " '1,27,607 Ratings',\n",
       " '1,00,759 Ratings',\n",
       " '1,266 Ratings',\n",
       " '1,266 Ratings',\n",
       " '1,266 Ratings',\n",
       " '1,266 Ratings',\n",
       " '1,266 Ratings',\n",
       " '1,266 Ratings',\n",
       " '1,266 Ratings',\n",
       " '1,266 Ratings',\n",
       " '1,88,481 Ratings',\n",
       " '1,266 Ratings',\n",
       " '1,307 Ratings',\n",
       " '1,00,759 Ratings',\n",
       " '1,00,759 Ratings',\n",
       " '1,266 Ratings',\n",
       " '1,307 Ratings']"
      ]
     },
     "execution_count": 13,
     "metadata": {},
     "output_type": "execute_result"
    }
   ],
   "source": [
    "num_of_ratings"
   ]
  },
  {
   "cell_type": "code",
   "execution_count": 17,
   "id": "57059e2f",
   "metadata": {},
   "outputs": [],
   "source": [
    "poson=pd.DataFrame(dictionary)"
   ]
  },
  {
   "cell_type": "code",
   "execution_count": 18,
   "id": "125248fa",
   "metadata": {},
   "outputs": [
    {
     "data": {
      "text/html": [
       "<div>\n",
       "<style scoped>\n",
       "    .dataframe tbody tr th:only-of-type {\n",
       "        vertical-align: middle;\n",
       "    }\n",
       "\n",
       "    .dataframe tbody tr th {\n",
       "        vertical-align: top;\n",
       "    }\n",
       "\n",
       "    .dataframe thead th {\n",
       "        text-align: right;\n",
       "    }\n",
       "</style>\n",
       "<table border=\"1\" class=\"dataframe\">\n",
       "  <thead>\n",
       "    <tr style=\"text-align: right;\">\n",
       "      <th></th>\n",
       "      <th>product_names</th>\n",
       "      <th>prices</th>\n",
       "      <th>reviews</th>\n",
       "      <th>no. of ratings</th>\n",
       "    </tr>\n",
       "  </thead>\n",
       "  <tbody>\n",
       "    <tr>\n",
       "      <th>0</th>\n",
       "      <td>APPLE iPhone 14 (Midnight, 128 GB)</td>\n",
       "      <td>₹71,999</td>\n",
       "      <td>1,160 Reviews</td>\n",
       "      <td>30,247 Ratings</td>\n",
       "    </tr>\n",
       "    <tr>\n",
       "      <th>1</th>\n",
       "      <td>APPLE iPhone 14 (Blue, 128 GB)</td>\n",
       "      <td>₹71,999</td>\n",
       "      <td>1,160 Reviews</td>\n",
       "      <td>30,247 Ratings</td>\n",
       "    </tr>\n",
       "    <tr>\n",
       "      <th>2</th>\n",
       "      <td>APPLE iPhone 14 ((PRODUCT)RED, 128 GB)</td>\n",
       "      <td>₹67,999</td>\n",
       "      <td>1,160 Reviews</td>\n",
       "      <td>30,247 Ratings</td>\n",
       "    </tr>\n",
       "    <tr>\n",
       "      <th>3</th>\n",
       "      <td>APPLE iPhone 14 (Midnight, 256 GB)</td>\n",
       "      <td>₹81,999</td>\n",
       "      <td>1,160 Reviews</td>\n",
       "      <td>30,247 Ratings</td>\n",
       "    </tr>\n",
       "    <tr>\n",
       "      <th>4</th>\n",
       "      <td>APPLE iPhone 14 (Purple, 256 GB)</td>\n",
       "      <td>₹81,999</td>\n",
       "      <td>1,160 Reviews</td>\n",
       "      <td>30,247 Ratings</td>\n",
       "    </tr>\n",
       "    <tr>\n",
       "      <th>...</th>\n",
       "      <td>...</td>\n",
       "      <td>...</td>\n",
       "      <td>...</td>\n",
       "      <td>...</td>\n",
       "    </tr>\n",
       "    <tr>\n",
       "      <th>163</th>\n",
       "      <td>APPLE iPhone 12 (Purple, 128 GB)</td>\n",
       "      <td>₹56,999</td>\n",
       "      <td>12,808 Reviews</td>\n",
       "      <td>1,88,481 Ratings</td>\n",
       "    </tr>\n",
       "    <tr>\n",
       "      <th>164</th>\n",
       "      <td>APPLE iPhone 12 Pro Max (Silver, 512 GB)</td>\n",
       "      <td>₹1,23,299</td>\n",
       "      <td>102 Reviews</td>\n",
       "      <td>1,266 Ratings</td>\n",
       "    </tr>\n",
       "    <tr>\n",
       "      <th>165</th>\n",
       "      <td>APPLE iPhone XR ((PRODUCT)RED, 128 GB)</td>\n",
       "      <td>₹41,699</td>\n",
       "      <td>8,553 Reviews</td>\n",
       "      <td>1,00,759 Ratings</td>\n",
       "    </tr>\n",
       "    <tr>\n",
       "      <th>166</th>\n",
       "      <td>APPLE iPhone 12 Pro Max (Gold, 256 GB)</td>\n",
       "      <td>₹1,04,799</td>\n",
       "      <td>102 Reviews</td>\n",
       "      <td>1,266 Ratings</td>\n",
       "    </tr>\n",
       "    <tr>\n",
       "      <th>167</th>\n",
       "      <td>APPLE iPhone 12 Pro (Pacific Blue, 512 GB)</td>\n",
       "      <td>₹1,06,699</td>\n",
       "      <td>96 Reviews</td>\n",
       "      <td>1,307 Ratings</td>\n",
       "    </tr>\n",
       "  </tbody>\n",
       "</table>\n",
       "<p>168 rows × 4 columns</p>\n",
       "</div>"
      ],
      "text/plain": [
       "                                  product_names     prices         reviews  \\\n",
       "0            APPLE iPhone 14 (Midnight, 128 GB)    ₹71,999   1,160 Reviews   \n",
       "1                APPLE iPhone 14 (Blue, 128 GB)    ₹71,999   1,160 Reviews   \n",
       "2        APPLE iPhone 14 ((PRODUCT)RED, 128 GB)    ₹67,999   1,160 Reviews   \n",
       "3            APPLE iPhone 14 (Midnight, 256 GB)    ₹81,999   1,160 Reviews   \n",
       "4              APPLE iPhone 14 (Purple, 256 GB)    ₹81,999   1,160 Reviews   \n",
       "..                                          ...        ...             ...   \n",
       "163            APPLE iPhone 12 (Purple, 128 GB)    ₹56,999  12,808 Reviews   \n",
       "164    APPLE iPhone 12 Pro Max (Silver, 512 GB)  ₹1,23,299     102 Reviews   \n",
       "165      APPLE iPhone XR ((PRODUCT)RED, 128 GB)    ₹41,699   8,553 Reviews   \n",
       "166      APPLE iPhone 12 Pro Max (Gold, 256 GB)  ₹1,04,799     102 Reviews   \n",
       "167  APPLE iPhone 12 Pro (Pacific Blue, 512 GB)  ₹1,06,699      96 Reviews   \n",
       "\n",
       "       no. of ratings  \n",
       "0      30,247 Ratings  \n",
       "1      30,247 Ratings  \n",
       "2      30,247 Ratings  \n",
       "3      30,247 Ratings  \n",
       "4      30,247 Ratings  \n",
       "..                ...  \n",
       "163  1,88,481 Ratings  \n",
       "164     1,266 Ratings  \n",
       "165  1,00,759 Ratings  \n",
       "166     1,266 Ratings  \n",
       "167     1,307 Ratings  \n",
       "\n",
       "[168 rows x 4 columns]"
      ]
     },
     "execution_count": 18,
     "metadata": {},
     "output_type": "execute_result"
    }
   ],
   "source": [
    "poson"
   ]
  },
  {
   "cell_type": "code",
   "execution_count": 26,
   "id": "3ca94c1d",
   "metadata": {},
   "outputs": [],
   "source": [
    "hello=pd.ExcelWriter('iphone14.xlsx')\n",
    "poson.to_excel(hello,\"1st\")"
   ]
  },
  {
   "cell_type": "code",
   "execution_count": 27,
   "id": "f7af4136",
   "metadata": {},
   "outputs": [
    {
     "name": "stderr",
     "output_type": "stream",
     "text": [
      "C:\\Users\\poson\\AppData\\Local\\Temp\\ipykernel_11108\\261665607.py:1: FutureWarning: save is not part of the public API, usage can give unexpected results and will be removed in a future version\n",
      "  hello.save()\n"
     ]
    }
   ],
   "source": [
    "hello.save()"
   ]
  },
  {
   "cell_type": "code",
   "execution_count": 29,
   "id": "c74acc51",
   "metadata": {},
   "outputs": [
    {
     "data": {
      "text/plain": [
       "'C:\\\\Users\\\\poson'"
      ]
     },
     "execution_count": 29,
     "metadata": {},
     "output_type": "execute_result"
    }
   ],
   "source": [
    "import os\n",
    "os.getcwd()"
   ]
  },
  {
   "cell_type": "code",
   "execution_count": null,
   "id": "fe379669",
   "metadata": {},
   "outputs": [],
   "source": []
  }
 ],
 "metadata": {
  "kernelspec": {
   "display_name": "Python 3 (ipykernel)",
   "language": "python",
   "name": "python3"
  },
  "language_info": {
   "codemirror_mode": {
    "name": "ipython",
    "version": 3
   },
   "file_extension": ".py",
   "mimetype": "text/x-python",
   "name": "python",
   "nbconvert_exporter": "python",
   "pygments_lexer": "ipython3",
   "version": "3.10.9"
  }
 },
 "nbformat": 4,
 "nbformat_minor": 5
}
